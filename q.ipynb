{
 "cells": [
  {
   "cell_type": "markdown",
   "metadata": {},
   "source": [
    "Compare learned Q-learning states to optimal Sprague-Grundy"
   ]
  },
  {
   "cell_type": "code",
   "execution_count": 1,
   "metadata": {},
   "outputs": [
    {
     "name": "stdout",
     "output_type": "stream",
     "text": [
      "Game 0\n",
      "Game 10000\n",
      "Game 20000\n",
      "Game 30000\n",
      "Game 40000\n",
      "Game 50000\n",
      "Game 60000\n",
      "Game 70000\n",
      "Game 80000\n",
      "Game 90000\n",
      "Training complete.\n"
     ]
    },
    {
     "data": {
      "text/plain": [
       "[(((10, 3), (0, 1)), -1.686779483654174),\n",
       " (((8, 3), (0, 4)), -0.7442368225336986),\n",
       " (((2, 3), (0, 2)), -0.9093748269136995),\n",
       " (((9, 3), (0, 1)), -1.8909567904794504),\n",
       " (((4, 3), (0, 2)), -1.881444996246528),\n",
       " (((0, 3), (1, 3)), 1.0),\n",
       " (((4, 10), (1, 2)), -1.7733230527186299),\n",
       " (((4, 5), (1, 2)), -1.3653168566209066),\n",
       " (((2, 3), (0, 1)), -1.899535531241272),\n",
       " (((4, 8), (1, 3)), -1.7799533201342863)]"
      ]
     },
     "execution_count": 1,
     "metadata": {},
     "output_type": "execute_result"
    }
   ],
   "source": [
    "from q import Q\n",
    "\n",
    "q = Q()\n",
    "q.train(num_games=100000, num_heaps=2)\n",
    "list(q.q.items())[:10]"
   ]
  },
  {
   "cell_type": "code",
   "execution_count": 13,
   "metadata": {},
   "outputs": [],
   "source": [
    "import matplotlib.pyplot as plt\n",
    "%matplotlib inline\n",
    "import numpy as np"
   ]
  },
  {
   "cell_type": "code",
   "execution_count": 9,
   "metadata": {},
   "outputs": [],
   "source": [
    "def move(heaps, action): # action is a tuple (heap, num)\n",
    "    heap, num = action\n",
    "    heaps[heap] -= num\n",
    "    return heaps"
   ]
  },
  {
   "cell_type": "code",
   "execution_count": 11,
   "metadata": {},
   "outputs": [
    {
     "data": {
      "text/plain": [
       "[[[9, 3], -1.686779483654174],\n",
       " [[4, 3], -0.7442368225336986],\n",
       " [[0, 3], -0.9093748269136995],\n",
       " [[8, 3], -1.8909567904794504],\n",
       " [[2, 3], -1.881444996246528],\n",
       " [[0, 0], 1.0],\n",
       " [[4, 8], -1.7733230527186299],\n",
       " [[4, 3], -1.3653168566209066],\n",
       " [[1, 3], -1.899535531241272],\n",
       " [[4, 5], -1.7799533201342863]]"
      ]
     },
     "execution_count": 11,
     "metadata": {},
     "output_type": "execute_result"
    }
   ],
   "source": [
    "# add all state action pairs to a single result state\n",
    "\n",
    "result = []\n",
    "\n",
    "for state, action in q.q:\n",
    "    heaps = list(state)\n",
    "    result.append([move(heaps, action), q.q[(state, action)]])# \n",
    "\n",
    "result[:10]"
   ]
  },
  {
   "cell_type": "code",
   "execution_count": 14,
   "metadata": {},
   "outputs": [
    {
     "data": {
      "text/plain": [
       "array([[ 1.        , -1.        , -0.81868896, -1.        , -0.81799774,\n",
       "        -0.63652344, -0.99902344, -0.9375    , -0.9980957 , -0.99975586,\n",
       "        -0.9375    ],\n",
       "       [-0.99609375,  1.9       , -1.85546513, -1.89246605, -1.89953613,\n",
       "        -1.89252014, -1.89976807, -1.425     , -1.721875  , -1.32282227,\n",
       "        -1.840625  ],\n",
       "       [-0.83359375, -1.78122078,  1.89999997, -0.94215852, -1.8896673 ,\n",
       "        -1.53645712, -1.22200543,  0.40853943, -1.32301991, -1.8663897 ,\n",
       "        -1.56732782],\n",
       "       [-0.75      ,  0.0296875 , -1.31834289,  1.9014251 , -1.86931175,\n",
       "        -1.82722066, -0.55813825, -1.72087404, -1.78089775, -1.43141688,\n",
       "        -1.58429469],\n",
       "       [-0.99902344, -1.89257812, -1.58923862, -1.59434361,  2.31601953,\n",
       "         0.396529  , -0.24794278, -0.53871454, -1.86518701, -0.67587225,\n",
       "        -1.44891621],\n",
       "       [-0.95273438, -0.94098885, -1.74820734, -1.86508507, -1.87586992,\n",
       "         1.90292701, -1.86369457, -1.77445411, -1.02311858, -0.79455003,\n",
       "        -1.2866458 ],\n",
       "       [-0.9375    , -1.89257812, -1.55401045, -1.62812643, -1.27907999,\n",
       "        -1.85698607,  1.93252763, -1.75318659, -0.47639784, -1.66327824,\n",
       "        -0.78692566],\n",
       "       [-0.99993896, -1.89813004, -0.89954824, -1.54531967, -1.51083265,\n",
       "        -1.78249684, -1.63386404,  1.90000005, -1.73567501, -1.61287538,\n",
       "        -1.25008625],\n",
       "       [-0.875     , -1.78125   , -1.31052231, -1.19535871, -1.86851604,\n",
       "        -0.65756294, -0.50974504, -1.1985339 ,  1.89688476, -1.6603167 ,\n",
       "        -1.45559971],\n",
       "       [ 0.58984375, -1.30705078, -1.74648128,  0.00342481, -1.5094319 ,\n",
       "        -1.27936297, -0.99891195, -0.36571444, -0.98067742,  1.89759212,\n",
       "        -1.02588093],\n",
       "       [-0.96875   , -1.60445313, -0.55678735, -1.34617827, -0.78025957,\n",
       "        -1.83416015, -1.72558369,  0.21823737, -1.85172924, -1.68355861,\n",
       "                nan]])"
      ]
     },
     "execution_count": 14,
     "metadata": {},
     "output_type": "execute_result"
    }
   ],
   "source": [
    "# create array of all possible states and fill in with Q values\n",
    "arr = np.full((11, 11), np.nan)\n",
    "\n",
    "for state, q_value in result:\n",
    "    arr[state[0], state[1]] = q_value\n",
    "    \n",
    "arr"
   ]
  },
  {
   "cell_type": "code",
   "execution_count": 15,
   "metadata": {},
   "outputs": [
    {
     "data": {
      "text/plain": [
       "<matplotlib.colorbar.Colorbar at 0x7fdd5f8e25b0>"
      ]
     },
     "execution_count": 15,
     "metadata": {},
     "output_type": "execute_result"
    },
    {
     "data": {
      "image/png": "[encoded data removed]",
      "text/plain": [
       "<Figure size 640x480 with 2 Axes>"
      ]
     },
     "metadata": {},
     "output_type": "display_data"
    }
   ],
   "source": [
    "# visualize patterns\n",
    "\n",
    "plt.imshow(arr)\n",
    "plt.colorbar()"
   ]
  },
  {
   "cell_type": "markdown",
   "metadata": {},
   "source": [
    "^ found the most optimal game states!! (along diagonal)"
   ]
  },
  {
   "cell_type": "code",
   "execution_count": 23,
   "metadata": {},
   "outputs": [
    {
     "data": {
      "text/plain": [
       "<matplotlib.colorbar.Colorbar at 0x7fdd5f413880>"
      ]
     },
     "execution_count": 23,
     "metadata": {},
     "output_type": "execute_result"
    },
    {
     "data": {
      "image/png": "[encoded data removed]",
      "text/plain": [
       "<Figure size 640x480 with 2 Axes>"
      ]
     },
     "metadata": {},
     "output_type": "display_data"
    }
   ],
   "source": [
    "# compare with optimal strategy; diagonal has similar values\n",
    "\n",
    "x = 10; y = 10\n",
    "arr2 = np.full((x,y), -1)  # initialize with -1\n",
    "\n",
    "for row in range(x):\n",
    "    for col in range(y):\n",
    "        arr2[row,col] = row^col\n",
    "        \n",
    "# most optimal if closer to XOR of 0; invert to make it more intuitive\n",
    "arr2 = max(arr2.flatten()) - arr2\n",
    "            \n",
    "plt.imshow(arr2)\n",
    "plt.colorbar()"
   ]
  }
 ],
 "metadata": {
  "kernelspec": {
   "display_name": "ml",
   "language": "python",
   "name": "python3"
  },
  "language_info": {
   "codemirror_mode": {
    "name": "ipython",
    "version": 3
   },
   "file_extension": ".py",
   "mimetype": "text/x-python",
   "name": "python",
   "nbconvert_exporter": "python",
   "pygments_lexer": "ipython3",
   "version": "3.9.13"
  },
  "orig_nbformat": 4,
  "vscode": {
   "interpreter": {
    "hash": "696138aadfbb39da019b0f4a82f739b9650213a50720b5fab5db3742a6f6c84f"
   }
  }
 },
 "nbformat": 4,
 "nbformat_minor": 2
}
